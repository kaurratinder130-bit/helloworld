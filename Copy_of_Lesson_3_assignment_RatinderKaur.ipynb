{
  "nbformat": 4,
  "nbformat_minor": 0,
  "metadata": {
    "colab": {
      "provenance": [],
      "authorship_tag": "ABX9TyMpcy4kUajgTi5e8kWIIjRo",
      "include_colab_link": true
    },
    "kernelspec": {
      "name": "python3",
      "display_name": "Python 3"
    },
    "language_info": {
      "name": "python"
    }
  },
  "cells": [
    {
      "cell_type": "markdown",
      "metadata": {
        "id": "view-in-github",
        "colab_type": "text"
      },
      "source": [
        "<a href=\"https://colab.research.google.com/github/kaurratinder130-bit/helloworld/blob/main/Copy_of_Lesson_3_assignment_RatinderKaur.ipynb\" target=\"_parent\"><img src=\"https://colab.research.google.com/assets/colab-badge.svg\" alt=\"Open In Colab\"/></a>"
      ]
    },
    {
      "cell_type": "code",
      "execution_count": null,
      "metadata": {
        "colab": {
          "base_uri": "https://localhost:8080/"
        },
        "id": "AMGsw6e_BUXw",
        "outputId": "3e8de832-6f76-4c52-bf7c-55d5a32c1f31"
      },
      "outputs": [
        {
          "output_type": "stream",
          "name": "stdout",
          "text": [
            "Book 'Python Basics' added successfully.\n",
            "Book 'Data Science 101' added successfully.\n",
            "Current Books: ['Python Basics', 'Data Science 101']\n"
          ]
        }
      ],
      "source": [
        "# ---------------------------\n",
        "# LIBRARY MANAGEMENT SYSTEM\n",
        "# ---------------------------\n",
        "\n",
        "# Task 1: Add books to a list\n",
        "books = []\n",
        "\n",
        "def add_book(title):\n",
        "    \"\"\"Add a book if it doesn't already exist\"\"\"\n",
        "    if title not in books:\n",
        "        books.append(title)\n",
        "        print(f\"Book '{title}' added successfully.\")\n",
        "    else:\n",
        "        print(f\"Book '{title}' already exists!\")\n",
        "\n",
        "# Test\n",
        "add_book(\"Python Basics\")\n",
        "add_book(\"Data Science 101\")\n",
        "print(\"Current Books:\", books)\n"
      ]
    },
    {
      "cell_type": "code",
      "source": [
        "# Initialize git (once)\n",
        "!git init\n",
        "!git config --global user.name \"Ratinder Kaur\"\n",
        "!git config --global user.email \"ratinder.kaur@canadaacumen.ca\"\n",
        "\n",
        "# Add notebook\n",
        "!git add Lesson_3_assignment_RatinderKaur.ipynb\n",
        "!git commit -m \"Commit 1: Added basic book list and functions\"\n",
        "\n",
        "# Later, after implementing file and pickle handling\n",
        "!git add Lesson_3_assignment_RatinderKaur.ipynb\n",
        "!git commit -m \"Commit 2: Added file handling and pickle\"\n",
        "\n",
        "# Finally, after database tasks\n",
        "!git add Lesson_3_assignment_RatinderKaur.ipynb\n",
        "!git commit -m \"Commit 3: Added SQLite database interaction\"\n",
        "\n",
        "# Push to GitHub\n",
        "!git remote add origin https://github.com/kaurratinder130-bit/students.git\n",
        "!git push -u origin main\n"
      ],
      "metadata": {
        "id": "JMhbBMEADZNA"
      },
      "execution_count": null,
      "outputs": []
    }
  ]
}