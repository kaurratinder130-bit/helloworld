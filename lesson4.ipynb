{
  "nbformat": 4,
  "nbformat_minor": 0,
  "metadata": {
    "colab": {
      "provenance": [],
      "authorship_tag": "ABX9TyN8Wuv0FYhDR5ky+OQBkqqs",
      "include_colab_link": true
    },
    "kernelspec": {
      "name": "python3",
      "display_name": "Python 3"
    },
    "language_info": {
      "name": "python"
    }
  },
  "cells": [
    {
      "cell_type": "markdown",
      "metadata": {
        "id": "view-in-github",
        "colab_type": "text"
      },
      "source": [
        "<a href=\"https://colab.research.google.com/github/kaurratinder130-bit/helloworld/blob/main/lesson4.ipynb\" target=\"_parent\"><img src=\"https://colab.research.google.com/assets/colab-badge.svg\" alt=\"Open In Colab\"/></a>"
      ]
    },
    {
      "cell_type": "code",
      "execution_count": 1,
      "metadata": {
        "colab": {
          "base_uri": "https://localhost:8080/",
          "height": 300
        },
        "id": "vROyF5fyKo97",
        "outputId": "be66c486-2aff-4003-87fe-272f1876a880"
      },
      "outputs": [
        {
          "output_type": "execute_result",
          "data": {
            "text/plain": [
              "  Company   Person  Sales\n",
              "0      FB      Sam  200.0\n",
              "1      FB  Charlie  120.0\n",
              "2    GOOG      Amy  340.0\n",
              "3    GOOG  Vanessa  124.0\n",
              "4    MSFT     Carl  243.0\n",
              "5    MSFT    Sarah  350.0\n",
              "6    AAPL     Tony    NaN\n",
              "7    AAPL     Jake  400.0"
            ],
            "text/html": [
              "\n",
              "  <div id=\"df-fe55e87a-fa60-4025-a9d4-3607e955f762\" class=\"colab-df-container\">\n",
              "    <div>\n",
              "<style scoped>\n",
              "    .dataframe tbody tr th:only-of-type {\n",
              "        vertical-align: middle;\n",
              "    }\n",
              "\n",
              "    .dataframe tbody tr th {\n",
              "        vertical-align: top;\n",
              "    }\n",
              "\n",
              "    .dataframe thead th {\n",
              "        text-align: right;\n",
              "    }\n",
              "</style>\n",
              "<table border=\"1\" class=\"dataframe\">\n",
              "  <thead>\n",
              "    <tr style=\"text-align: right;\">\n",
              "      <th></th>\n",
              "      <th>Company</th>\n",
              "      <th>Person</th>\n",
              "      <th>Sales</th>\n",
              "    </tr>\n",
              "  </thead>\n",
              "  <tbody>\n",
              "    <tr>\n",
              "      <th>0</th>\n",
              "      <td>FB</td>\n",
              "      <td>Sam</td>\n",
              "      <td>200.0</td>\n",
              "    </tr>\n",
              "    <tr>\n",
              "      <th>1</th>\n",
              "      <td>FB</td>\n",
              "      <td>Charlie</td>\n",
              "      <td>120.0</td>\n",
              "    </tr>\n",
              "    <tr>\n",
              "      <th>2</th>\n",
              "      <td>GOOG</td>\n",
              "      <td>Amy</td>\n",
              "      <td>340.0</td>\n",
              "    </tr>\n",
              "    <tr>\n",
              "      <th>3</th>\n",
              "      <td>GOOG</td>\n",
              "      <td>Vanessa</td>\n",
              "      <td>124.0</td>\n",
              "    </tr>\n",
              "    <tr>\n",
              "      <th>4</th>\n",
              "      <td>MSFT</td>\n",
              "      <td>Carl</td>\n",
              "      <td>243.0</td>\n",
              "    </tr>\n",
              "    <tr>\n",
              "      <th>5</th>\n",
              "      <td>MSFT</td>\n",
              "      <td>Sarah</td>\n",
              "      <td>350.0</td>\n",
              "    </tr>\n",
              "    <tr>\n",
              "      <th>6</th>\n",
              "      <td>AAPL</td>\n",
              "      <td>Tony</td>\n",
              "      <td>NaN</td>\n",
              "    </tr>\n",
              "    <tr>\n",
              "      <th>7</th>\n",
              "      <td>AAPL</td>\n",
              "      <td>Jake</td>\n",
              "      <td>400.0</td>\n",
              "    </tr>\n",
              "  </tbody>\n",
              "</table>\n",
              "</div>\n",
              "    <div class=\"colab-df-buttons\">\n",
              "\n",
              "  <div class=\"colab-df-container\">\n",
              "    <button class=\"colab-df-convert\" onclick=\"convertToInteractive('df-fe55e87a-fa60-4025-a9d4-3607e955f762')\"\n",
              "            title=\"Convert this dataframe to an interactive table.\"\n",
              "            style=\"display:none;\">\n",
              "\n",
              "  <svg xmlns=\"http://www.w3.org/2000/svg\" height=\"24px\" viewBox=\"0 -960 960 960\">\n",
              "    <path d=\"M120-120v-720h720v720H120Zm60-500h600v-160H180v160Zm220 220h160v-160H400v160Zm0 220h160v-160H400v160ZM180-400h160v-160H180v160Zm440 0h160v-160H620v160ZM180-180h160v-160H180v160Zm440 0h160v-160H620v160Z\"/>\n",
              "  </svg>\n",
              "    </button>\n",
              "\n",
              "  <style>\n",
              "    .colab-df-container {\n",
              "      display:flex;\n",
              "      gap: 12px;\n",
              "    }\n",
              "\n",
              "    .colab-df-convert {\n",
              "      background-color: #E8F0FE;\n",
              "      border: none;\n",
              "      border-radius: 50%;\n",
              "      cursor: pointer;\n",
              "      display: none;\n",
              "      fill: #1967D2;\n",
              "      height: 32px;\n",
              "      padding: 0 0 0 0;\n",
              "      width: 32px;\n",
              "    }\n",
              "\n",
              "    .colab-df-convert:hover {\n",
              "      background-color: #E2EBFA;\n",
              "      box-shadow: 0px 1px 2px rgba(60, 64, 67, 0.3), 0px 1px 3px 1px rgba(60, 64, 67, 0.15);\n",
              "      fill: #174EA6;\n",
              "    }\n",
              "\n",
              "    .colab-df-buttons div {\n",
              "      margin-bottom: 4px;\n",
              "    }\n",
              "\n",
              "    [theme=dark] .colab-df-convert {\n",
              "      background-color: #3B4455;\n",
              "      fill: #D2E3FC;\n",
              "    }\n",
              "\n",
              "    [theme=dark] .colab-df-convert:hover {\n",
              "      background-color: #434B5C;\n",
              "      box-shadow: 0px 1px 3px 1px rgba(0, 0, 0, 0.15);\n",
              "      filter: drop-shadow(0px 1px 2px rgba(0, 0, 0, 0.3));\n",
              "      fill: #FFFFFF;\n",
              "    }\n",
              "  </style>\n",
              "\n",
              "    <script>\n",
              "      const buttonEl =\n",
              "        document.querySelector('#df-fe55e87a-fa60-4025-a9d4-3607e955f762 button.colab-df-convert');\n",
              "      buttonEl.style.display =\n",
              "        google.colab.kernel.accessAllowed ? 'block' : 'none';\n",
              "\n",
              "      async function convertToInteractive(key) {\n",
              "        const element = document.querySelector('#df-fe55e87a-fa60-4025-a9d4-3607e955f762');\n",
              "        const dataTable =\n",
              "          await google.colab.kernel.invokeFunction('convertToInteractive',\n",
              "                                                    [key], {});\n",
              "        if (!dataTable) return;\n",
              "\n",
              "        const docLinkHtml = 'Like what you see? Visit the ' +\n",
              "          '<a target=\"_blank\" href=https://colab.research.google.com/notebooks/data_table.ipynb>data table notebook</a>'\n",
              "          + ' to learn more about interactive tables.';\n",
              "        element.innerHTML = '';\n",
              "        dataTable['output_type'] = 'display_data';\n",
              "        await google.colab.output.renderOutput(dataTable, element);\n",
              "        const docLink = document.createElement('div');\n",
              "        docLink.innerHTML = docLinkHtml;\n",
              "        element.appendChild(docLink);\n",
              "      }\n",
              "    </script>\n",
              "  </div>\n",
              "\n",
              "\n",
              "    <div id=\"df-7cebb810-45e5-446a-9803-96eb15ee5943\">\n",
              "      <button class=\"colab-df-quickchart\" onclick=\"quickchart('df-7cebb810-45e5-446a-9803-96eb15ee5943')\"\n",
              "                title=\"Suggest charts\"\n",
              "                style=\"display:none;\">\n",
              "\n",
              "<svg xmlns=\"http://www.w3.org/2000/svg\" height=\"24px\"viewBox=\"0 0 24 24\"\n",
              "     width=\"24px\">\n",
              "    <g>\n",
              "        <path d=\"M19 3H5c-1.1 0-2 .9-2 2v14c0 1.1.9 2 2 2h14c1.1 0 2-.9 2-2V5c0-1.1-.9-2-2-2zM9 17H7v-7h2v7zm4 0h-2V7h2v10zm4 0h-2v-4h2v4z\"/>\n",
              "    </g>\n",
              "</svg>\n",
              "      </button>\n",
              "\n",
              "<style>\n",
              "  .colab-df-quickchart {\n",
              "      --bg-color: #E8F0FE;\n",
              "      --fill-color: #1967D2;\n",
              "      --hover-bg-color: #E2EBFA;\n",
              "      --hover-fill-color: #174EA6;\n",
              "      --disabled-fill-color: #AAA;\n",
              "      --disabled-bg-color: #DDD;\n",
              "  }\n",
              "\n",
              "  [theme=dark] .colab-df-quickchart {\n",
              "      --bg-color: #3B4455;\n",
              "      --fill-color: #D2E3FC;\n",
              "      --hover-bg-color: #434B5C;\n",
              "      --hover-fill-color: #FFFFFF;\n",
              "      --disabled-bg-color: #3B4455;\n",
              "      --disabled-fill-color: #666;\n",
              "  }\n",
              "\n",
              "  .colab-df-quickchart {\n",
              "    background-color: var(--bg-color);\n",
              "    border: none;\n",
              "    border-radius: 50%;\n",
              "    cursor: pointer;\n",
              "    display: none;\n",
              "    fill: var(--fill-color);\n",
              "    height: 32px;\n",
              "    padding: 0;\n",
              "    width: 32px;\n",
              "  }\n",
              "\n",
              "  .colab-df-quickchart:hover {\n",
              "    background-color: var(--hover-bg-color);\n",
              "    box-shadow: 0 1px 2px rgba(60, 64, 67, 0.3), 0 1px 3px 1px rgba(60, 64, 67, 0.15);\n",
              "    fill: var(--button-hover-fill-color);\n",
              "  }\n",
              "\n",
              "  .colab-df-quickchart-complete:disabled,\n",
              "  .colab-df-quickchart-complete:disabled:hover {\n",
              "    background-color: var(--disabled-bg-color);\n",
              "    fill: var(--disabled-fill-color);\n",
              "    box-shadow: none;\n",
              "  }\n",
              "\n",
              "  .colab-df-spinner {\n",
              "    border: 2px solid var(--fill-color);\n",
              "    border-color: transparent;\n",
              "    border-bottom-color: var(--fill-color);\n",
              "    animation:\n",
              "      spin 1s steps(1) infinite;\n",
              "  }\n",
              "\n",
              "  @keyframes spin {\n",
              "    0% {\n",
              "      border-color: transparent;\n",
              "      border-bottom-color: var(--fill-color);\n",
              "      border-left-color: var(--fill-color);\n",
              "    }\n",
              "    20% {\n",
              "      border-color: transparent;\n",
              "      border-left-color: var(--fill-color);\n",
              "      border-top-color: var(--fill-color);\n",
              "    }\n",
              "    30% {\n",
              "      border-color: transparent;\n",
              "      border-left-color: var(--fill-color);\n",
              "      border-top-color: var(--fill-color);\n",
              "      border-right-color: var(--fill-color);\n",
              "    }\n",
              "    40% {\n",
              "      border-color: transparent;\n",
              "      border-right-color: var(--fill-color);\n",
              "      border-top-color: var(--fill-color);\n",
              "    }\n",
              "    60% {\n",
              "      border-color: transparent;\n",
              "      border-right-color: var(--fill-color);\n",
              "    }\n",
              "    80% {\n",
              "      border-color: transparent;\n",
              "      border-right-color: var(--fill-color);\n",
              "      border-bottom-color: var(--fill-color);\n",
              "    }\n",
              "    90% {\n",
              "      border-color: transparent;\n",
              "      border-bottom-color: var(--fill-color);\n",
              "    }\n",
              "  }\n",
              "</style>\n",
              "\n",
              "      <script>\n",
              "        async function quickchart(key) {\n",
              "          const quickchartButtonEl =\n",
              "            document.querySelector('#' + key + ' button');\n",
              "          quickchartButtonEl.disabled = true;  // To prevent multiple clicks.\n",
              "          quickchartButtonEl.classList.add('colab-df-spinner');\n",
              "          try {\n",
              "            const charts = await google.colab.kernel.invokeFunction(\n",
              "                'suggestCharts', [key], {});\n",
              "          } catch (error) {\n",
              "            console.error('Error during call to suggestCharts:', error);\n",
              "          }\n",
              "          quickchartButtonEl.classList.remove('colab-df-spinner');\n",
              "          quickchartButtonEl.classList.add('colab-df-quickchart-complete');\n",
              "        }\n",
              "        (() => {\n",
              "          let quickchartButtonEl =\n",
              "            document.querySelector('#df-7cebb810-45e5-446a-9803-96eb15ee5943 button');\n",
              "          quickchartButtonEl.style.display =\n",
              "            google.colab.kernel.accessAllowed ? 'block' : 'none';\n",
              "        })();\n",
              "      </script>\n",
              "    </div>\n",
              "\n",
              "  <div id=\"id_a9748e83-80a5-4cd5-a4d2-f0a3ff60d646\">\n",
              "    <style>\n",
              "      .colab-df-generate {\n",
              "        background-color: #E8F0FE;\n",
              "        border: none;\n",
              "        border-radius: 50%;\n",
              "        cursor: pointer;\n",
              "        display: none;\n",
              "        fill: #1967D2;\n",
              "        height: 32px;\n",
              "        padding: 0 0 0 0;\n",
              "        width: 32px;\n",
              "      }\n",
              "\n",
              "      .colab-df-generate:hover {\n",
              "        background-color: #E2EBFA;\n",
              "        box-shadow: 0px 1px 2px rgba(60, 64, 67, 0.3), 0px 1px 3px 1px rgba(60, 64, 67, 0.15);\n",
              "        fill: #174EA6;\n",
              "      }\n",
              "\n",
              "      [theme=dark] .colab-df-generate {\n",
              "        background-color: #3B4455;\n",
              "        fill: #D2E3FC;\n",
              "      }\n",
              "\n",
              "      [theme=dark] .colab-df-generate:hover {\n",
              "        background-color: #434B5C;\n",
              "        box-shadow: 0px 1px 3px 1px rgba(0, 0, 0, 0.15);\n",
              "        filter: drop-shadow(0px 1px 2px rgba(0, 0, 0, 0.3));\n",
              "        fill: #FFFFFF;\n",
              "      }\n",
              "    </style>\n",
              "    <button class=\"colab-df-generate\" onclick=\"generateWithVariable('df')\"\n",
              "            title=\"Generate code using this dataframe.\"\n",
              "            style=\"display:none;\">\n",
              "\n",
              "  <svg xmlns=\"http://www.w3.org/2000/svg\" height=\"24px\"viewBox=\"0 0 24 24\"\n",
              "       width=\"24px\">\n",
              "    <path d=\"M7,19H8.4L18.45,9,17,7.55,7,17.6ZM5,21V16.75L18.45,3.32a2,2,0,0,1,2.83,0l1.4,1.43a1.91,1.91,0,0,1,.58,1.4,1.91,1.91,0,0,1-.58,1.4L9.25,21ZM18.45,9,17,7.55Zm-12,3A5.31,5.31,0,0,0,4.9,8.1,5.31,5.31,0,0,0,1,6.5,5.31,5.31,0,0,0,4.9,4.9,5.31,5.31,0,0,0,6.5,1,5.31,5.31,0,0,0,8.1,4.9,5.31,5.31,0,0,0,12,6.5,5.46,5.46,0,0,0,6.5,12Z\"/>\n",
              "  </svg>\n",
              "    </button>\n",
              "    <script>\n",
              "      (() => {\n",
              "      const buttonEl =\n",
              "        document.querySelector('#id_a9748e83-80a5-4cd5-a4d2-f0a3ff60d646 button.colab-df-generate');\n",
              "      buttonEl.style.display =\n",
              "        google.colab.kernel.accessAllowed ? 'block' : 'none';\n",
              "\n",
              "      buttonEl.onclick = () => {\n",
              "        google.colab.notebook.generateWithVariable('df');\n",
              "      }\n",
              "      })();\n",
              "    </script>\n",
              "  </div>\n",
              "\n",
              "    </div>\n",
              "  </div>\n"
            ],
            "application/vnd.google.colaboratory.intrinsic+json": {
              "type": "dataframe",
              "variable_name": "df",
              "summary": "{\n  \"name\": \"df\",\n  \"rows\": 8,\n  \"fields\": [\n    {\n      \"column\": \"Company\",\n      \"properties\": {\n        \"dtype\": \"string\",\n        \"num_unique_values\": 4,\n        \"samples\": [\n          \"GOOG\",\n          \"AAPL\",\n          \"FB\"\n        ],\n        \"semantic_type\": \"\",\n        \"description\": \"\"\n      }\n    },\n    {\n      \"column\": \"Person\",\n      \"properties\": {\n        \"dtype\": \"string\",\n        \"num_unique_values\": 8,\n        \"samples\": [\n          \"Charlie\",\n          \"Sarah\",\n          \"Sam\"\n        ],\n        \"semantic_type\": \"\",\n        \"description\": \"\"\n      }\n    },\n    {\n      \"column\": \"Sales\",\n      \"properties\": {\n        \"dtype\": \"number\",\n        \"std\": 112.41356467886571,\n        \"min\": 120.0,\n        \"max\": 400.0,\n        \"num_unique_values\": 7,\n        \"samples\": [\n          200.0,\n          120.0,\n          350.0\n        ],\n        \"semantic_type\": \"\",\n        \"description\": \"\"\n      }\n    }\n  ]\n}"
            }
          },
          "metadata": {},
          "execution_count": 1
        }
      ],
      "source": [
        "import pandas as pd\n",
        "import numpy as np\n",
        "\n",
        "# Create dataframe\n",
        "df = pd.DataFrame({\n",
        "    'Company': ['FB', 'FB', 'GOOG', 'GOOG', 'MSFT', 'MSFT', 'AAPL', 'AAPL'],\n",
        "    'Person': ['Sam', 'Charlie', 'Amy', 'Vanessa', 'Carl', 'Sarah', 'Tony', 'Jake'],\n",
        "    'Sales': [200, 120, 340, 124, 243, 350, np.nan, 400]\n",
        "})\n",
        "df\n"
      ]
    },
    {
      "cell_type": "code",
      "source": [
        "print(\"\\nDropping any rows with a NaN value\\n\", '-'*35)\n",
        "print(df.dropna())\n",
        "\n",
        "print(\"\\nDropping any column with a NaN value\\n\", '-'*35)\n",
        "print(df.dropna(axis=1))# axis=0 is rows\n",
        "\n",
        "print(\"\\nDropping a row with minimum 2 NaN using 'thresh'\\n\")\n",
        "print(df.dropna(thresh=2)) #If a row has fewer than 2 non-NaN (valid) values, it’s dropped.\n"
      ],
      "metadata": {
        "colab": {
          "base_uri": "https://localhost:8080/"
        },
        "id": "iZnC4BTvKx2j",
        "outputId": "64f37995-949c-485e-f571-b7729a7b582d"
      },
      "execution_count": 6,
      "outputs": [
        {
          "output_type": "stream",
          "name": "stdout",
          "text": [
            "\n",
            "Dropping any rows with a NaN value\n",
            " -----------------------------------\n",
            "  Company   Person  Sales\n",
            "0      FB      Sam  200.0\n",
            "1      FB  Charlie  120.0\n",
            "2    GOOG      Amy  340.0\n",
            "3    GOOG  Vanessa  124.0\n",
            "4    MSFT     Carl  243.0\n",
            "5    MSFT    Sarah  350.0\n",
            "7    AAPL     Jake  400.0\n",
            "\n",
            "Dropping any column with a NaN value\n",
            " -----------------------------------\n",
            "  Company   Person\n",
            "0      FB      Sam\n",
            "1      FB  Charlie\n",
            "2    GOOG      Amy\n",
            "3    GOOG  Vanessa\n",
            "4    MSFT     Carl\n",
            "5    MSFT    Sarah\n",
            "6    AAPL     Tony\n",
            "7    AAPL     Jake\n",
            "\n",
            "Dropping a row with minimum 2 NaN using 'thresh'\n",
            "\n",
            "  Company   Person  Sales\n",
            "0      FB      Sam  200.0\n",
            "1      FB  Charlie  120.0\n",
            "2    GOOG      Amy  340.0\n",
            "3    GOOG  Vanessa  124.0\n",
            "4    MSFT     Carl  243.0\n",
            "5    MSFT    Sarah  350.0\n",
            "6    AAPL     Tony    NaN\n",
            "7    AAPL     Jake  400.0\n"
          ]
        }
      ]
    },
    {
      "cell_type": "code",
      "source": [
        "print(\"\\nFilling values with default (0)\\n\")\n",
        "print(df.fillna(0))\n",
        "\n",
        "print(\"\\nFilling values with mean of Sales\\n\")\n",
        "print(df['Sales'].fillna(df['Sales'].mean()))\n"
      ],
      "metadata": {
        "colab": {
          "base_uri": "https://localhost:8080/"
        },
        "id": "AgF2mGVKL4T9",
        "outputId": "3dceced8-bac0-4a37-e8e2-4af6e90e164e"
      },
      "execution_count": 7,
      "outputs": [
        {
          "output_type": "stream",
          "name": "stdout",
          "text": [
            "\n",
            "Filling values with default (0)\n",
            "\n",
            "  Company   Person  Sales\n",
            "0      FB      Sam  200.0\n",
            "1      FB  Charlie  120.0\n",
            "2    GOOG      Amy  340.0\n",
            "3    GOOG  Vanessa  124.0\n",
            "4    MSFT     Carl  243.0\n",
            "5    MSFT    Sarah  350.0\n",
            "6    AAPL     Tony    0.0\n",
            "7    AAPL     Jake  400.0\n",
            "\n",
            "Filling values with mean of Sales\n",
            "\n",
            "0    200.000000\n",
            "1    120.000000\n",
            "2    340.000000\n",
            "3    124.000000\n",
            "4    243.000000\n",
            "5    350.000000\n",
            "6    253.857143\n",
            "7    400.000000\n",
            "Name: Sales, dtype: float64\n"
          ]
        }
      ]
    },
    {
      "cell_type": "code",
      "source": [
        "byComp = df.groupby('Company')\n",
        "print(\"\\nGrouping by 'Company' and summing sales\\n\", '-'*55, sep='')\n",
        "print(byComp['Sales'].sum())\n",
        "\n",
        "print(\"\\nStats for 'FB'\\n\")\n",
        "pd.DataFrame(byComp.describe().loc['FB']).T\n"
      ],
      "metadata": {
        "colab": {
          "base_uri": "https://localhost:8080/",
          "height": 320
        },
        "id": "MIkPTJQcM4gC",
        "outputId": "65cd3ab5-c3c6-4b46-d738-cb03da0372b6"
      },
      "execution_count": 8,
      "outputs": [
        {
          "output_type": "stream",
          "name": "stdout",
          "text": [
            "\n",
            "Grouping by 'Company' and summing sales\n",
            "-------------------------------------------------------\n",
            "Company\n",
            "AAPL    400.0\n",
            "FB      320.0\n",
            "GOOG    464.0\n",
            "MSFT    593.0\n",
            "Name: Sales, dtype: float64\n",
            "\n",
            "Stats for 'FB'\n",
            "\n"
          ]
        },
        {
          "output_type": "execute_result",
          "data": {
            "text/plain": [
              "   Sales                                                     \n",
              "   count   mean        std    min    25%    50%    75%    max\n",
              "FB   2.0  160.0  56.568542  120.0  140.0  160.0  180.0  200.0"
            ],
            "text/html": [
              "\n",
              "  <div id=\"df-12c5cd39-e6f7-4ec6-aeeb-4a33146aad83\" class=\"colab-df-container\">\n",
              "    <div>\n",
              "<style scoped>\n",
              "    .dataframe tbody tr th:only-of-type {\n",
              "        vertical-align: middle;\n",
              "    }\n",
              "\n",
              "    .dataframe tbody tr th {\n",
              "        vertical-align: top;\n",
              "    }\n",
              "\n",
              "    .dataframe thead tr th {\n",
              "        text-align: left;\n",
              "    }\n",
              "</style>\n",
              "<table border=\"1\" class=\"dataframe\">\n",
              "  <thead>\n",
              "    <tr>\n",
              "      <th></th>\n",
              "      <th colspan=\"8\" halign=\"left\">Sales</th>\n",
              "    </tr>\n",
              "    <tr>\n",
              "      <th></th>\n",
              "      <th>count</th>\n",
              "      <th>mean</th>\n",
              "      <th>std</th>\n",
              "      <th>min</th>\n",
              "      <th>25%</th>\n",
              "      <th>50%</th>\n",
              "      <th>75%</th>\n",
              "      <th>max</th>\n",
              "    </tr>\n",
              "  </thead>\n",
              "  <tbody>\n",
              "    <tr>\n",
              "      <th>FB</th>\n",
              "      <td>2.0</td>\n",
              "      <td>160.0</td>\n",
              "      <td>56.568542</td>\n",
              "      <td>120.0</td>\n",
              "      <td>140.0</td>\n",
              "      <td>160.0</td>\n",
              "      <td>180.0</td>\n",
              "      <td>200.0</td>\n",
              "    </tr>\n",
              "  </tbody>\n",
              "</table>\n",
              "</div>\n",
              "    <div class=\"colab-df-buttons\">\n",
              "\n",
              "  <div class=\"colab-df-container\">\n",
              "    <button class=\"colab-df-convert\" onclick=\"convertToInteractive('df-12c5cd39-e6f7-4ec6-aeeb-4a33146aad83')\"\n",
              "            title=\"Convert this dataframe to an interactive table.\"\n",
              "            style=\"display:none;\">\n",
              "\n",
              "  <svg xmlns=\"http://www.w3.org/2000/svg\" height=\"24px\" viewBox=\"0 -960 960 960\">\n",
              "    <path d=\"M120-120v-720h720v720H120Zm60-500h600v-160H180v160Zm220 220h160v-160H400v160Zm0 220h160v-160H400v160ZM180-400h160v-160H180v160Zm440 0h160v-160H620v160ZM180-180h160v-160H180v160Zm440 0h160v-160H620v160Z\"/>\n",
              "  </svg>\n",
              "    </button>\n",
              "\n",
              "  <style>\n",
              "    .colab-df-container {\n",
              "      display:flex;\n",
              "      gap: 12px;\n",
              "    }\n",
              "\n",
              "    .colab-df-convert {\n",
              "      background-color: #E8F0FE;\n",
              "      border: none;\n",
              "      border-radius: 50%;\n",
              "      cursor: pointer;\n",
              "      display: none;\n",
              "      fill: #1967D2;\n",
              "      height: 32px;\n",
              "      padding: 0 0 0 0;\n",
              "      width: 32px;\n",
              "    }\n",
              "\n",
              "    .colab-df-convert:hover {\n",
              "      background-color: #E2EBFA;\n",
              "      box-shadow: 0px 1px 2px rgba(60, 64, 67, 0.3), 0px 1px 3px 1px rgba(60, 64, 67, 0.15);\n",
              "      fill: #174EA6;\n",
              "    }\n",
              "\n",
              "    .colab-df-buttons div {\n",
              "      margin-bottom: 4px;\n",
              "    }\n",
              "\n",
              "    [theme=dark] .colab-df-convert {\n",
              "      background-color: #3B4455;\n",
              "      fill: #D2E3FC;\n",
              "    }\n",
              "\n",
              "    [theme=dark] .colab-df-convert:hover {\n",
              "      background-color: #434B5C;\n",
              "      box-shadow: 0px 1px 3px 1px rgba(0, 0, 0, 0.15);\n",
              "      filter: drop-shadow(0px 1px 2px rgba(0, 0, 0, 0.3));\n",
              "      fill: #FFFFFF;\n",
              "    }\n",
              "  </style>\n",
              "\n",
              "    <script>\n",
              "      const buttonEl =\n",
              "        document.querySelector('#df-12c5cd39-e6f7-4ec6-aeeb-4a33146aad83 button.colab-df-convert');\n",
              "      buttonEl.style.display =\n",
              "        google.colab.kernel.accessAllowed ? 'block' : 'none';\n",
              "\n",
              "      async function convertToInteractive(key) {\n",
              "        const element = document.querySelector('#df-12c5cd39-e6f7-4ec6-aeeb-4a33146aad83');\n",
              "        const dataTable =\n",
              "          await google.colab.kernel.invokeFunction('convertToInteractive',\n",
              "                                                    [key], {});\n",
              "        if (!dataTable) return;\n",
              "\n",
              "        const docLinkHtml = 'Like what you see? Visit the ' +\n",
              "          '<a target=\"_blank\" href=https://colab.research.google.com/notebooks/data_table.ipynb>data table notebook</a>'\n",
              "          + ' to learn more about interactive tables.';\n",
              "        element.innerHTML = '';\n",
              "        dataTable['output_type'] = 'display_data';\n",
              "        await google.colab.output.renderOutput(dataTable, element);\n",
              "        const docLink = document.createElement('div');\n",
              "        docLink.innerHTML = docLinkHtml;\n",
              "        element.appendChild(docLink);\n",
              "      }\n",
              "    </script>\n",
              "  </div>\n",
              "\n",
              "\n",
              "    </div>\n",
              "  </div>\n"
            ],
            "application/vnd.google.colaboratory.intrinsic+json": {
              "type": "dataframe",
              "summary": "{\n  \"name\": \"pd\",\n  \"rows\": 1,\n  \"fields\": [\n    {\n      \"column\": [\n        \"Sales\",\n        \"count\"\n      ],\n      \"properties\": {\n        \"dtype\": \"number\",\n        \"std\": null,\n        \"min\": 2.0,\n        \"max\": 2.0,\n        \"num_unique_values\": 1,\n        \"samples\": [\n          2.0\n        ],\n        \"semantic_type\": \"\",\n        \"description\": \"\"\n      }\n    },\n    {\n      \"column\": [\n        \"Sales\",\n        \"mean\"\n      ],\n      \"properties\": {\n        \"dtype\": \"number\",\n        \"std\": null,\n        \"min\": 160.0,\n        \"max\": 160.0,\n        \"num_unique_values\": 1,\n        \"samples\": [\n          160.0\n        ],\n        \"semantic_type\": \"\",\n        \"description\": \"\"\n      }\n    },\n    {\n      \"column\": [\n        \"Sales\",\n        \"std\"\n      ],\n      \"properties\": {\n        \"dtype\": \"number\",\n        \"std\": null,\n        \"min\": 56.568542494923804,\n        \"max\": 56.568542494923804,\n        \"num_unique_values\": 1,\n        \"samples\": [\n          56.568542494923804\n        ],\n        \"semantic_type\": \"\",\n        \"description\": \"\"\n      }\n    },\n    {\n      \"column\": [\n        \"Sales\",\n        \"min\"\n      ],\n      \"properties\": {\n        \"dtype\": \"number\",\n        \"std\": null,\n        \"min\": 120.0,\n        \"max\": 120.0,\n        \"num_unique_values\": 1,\n        \"samples\": [\n          120.0\n        ],\n        \"semantic_type\": \"\",\n        \"description\": \"\"\n      }\n    },\n    {\n      \"column\": [\n        \"Sales\",\n        \"25%\"\n      ],\n      \"properties\": {\n        \"dtype\": \"number\",\n        \"std\": null,\n        \"min\": 140.0,\n        \"max\": 140.0,\n        \"num_unique_values\": 1,\n        \"samples\": [\n          140.0\n        ],\n        \"semantic_type\": \"\",\n        \"description\": \"\"\n      }\n    },\n    {\n      \"column\": [\n        \"Sales\",\n        \"50%\"\n      ],\n      \"properties\": {\n        \"dtype\": \"number\",\n        \"std\": null,\n        \"min\": 160.0,\n        \"max\": 160.0,\n        \"num_unique_values\": 1,\n        \"samples\": [\n          160.0\n        ],\n        \"semantic_type\": \"\",\n        \"description\": \"\"\n      }\n    },\n    {\n      \"column\": [\n        \"Sales\",\n        \"75%\"\n      ],\n      \"properties\": {\n        \"dtype\": \"number\",\n        \"std\": null,\n        \"min\": 180.0,\n        \"max\": 180.0,\n        \"num_unique_values\": 1,\n        \"samples\": [\n          180.0\n        ],\n        \"semantic_type\": \"\",\n        \"description\": \"\"\n      }\n    },\n    {\n      \"column\": [\n        \"Sales\",\n        \"max\"\n      ],\n      \"properties\": {\n        \"dtype\": \"number\",\n        \"std\": null,\n        \"min\": 200.0,\n        \"max\": 200.0,\n        \"num_unique_values\": 1,\n        \"samples\": [\n          200.0\n        ],\n        \"semantic_type\": \"\",\n        \"description\": \"\"\n      }\n    }\n  ]\n}"
            }
          },
          "metadata": {},
          "execution_count": 8
        }
      ]
    },
    {
      "cell_type": "code",
      "source": [
        "df1 = pd.DataFrame({'A': ['A0','A1','A2','A3'],\n",
        "                    'B': ['B0','B1','B2','B3'],\n",
        "                    'key': ['K0','K1','K2','K3']})\n",
        "df2 = pd.DataFrame({'A': ['A4','A5','A6','A7'],\n",
        "                    'B': ['B4','B5','B6','B7'],\n",
        "                    'key': ['K0','K1','K2','K3']})\n",
        "df3 = pd.DataFrame({'A': ['A8','A9','A10','A11'],\n",
        "                    'B': ['B8','B9','B10','B11'],\n",
        "                    'key': ['K0','K1','K2','K3']})\n",
        "\n",
        "print(\"\\nConcatenation\\n\")\n",
        "df_cat = pd.concat([df1, df2, df3])\n",
        "print(df_cat)\n",
        "\n",
        "print(\"\\nMerge by key\\n\")\n",
        "merge1 = pd.merge(df1, df2, how='inner', on='key')# only common values\n",
        "print(merge1)\n",
        "\n",
        "merged = pd.merge(merge1, df3, on='key', how='outer')  # Merge the result with the third, outer keeps everything\n",
        "print(merged)\n"
      ],
      "metadata": {
        "colab": {
          "base_uri": "https://localhost:8080/"
        },
        "id": "tXPlTs17Nbgc",
        "outputId": "55ffa75c-6a59-4948-b375-243b8a7261cc"
      },
      "execution_count": 17,
      "outputs": [
        {
          "output_type": "stream",
          "name": "stdout",
          "text": [
            "\n",
            "Concatenation\n",
            "\n",
            "     A    B key\n",
            "0   A0   B0  K0\n",
            "1   A1   B1  K1\n",
            "2   A2   B2  K2\n",
            "3   A3   B3  K3\n",
            "0   A4   B4  K0\n",
            "1   A5   B5  K1\n",
            "2   A6   B6  K2\n",
            "3   A7   B7  K3\n",
            "0   A8   B8  K0\n",
            "1   A9   B9  K1\n",
            "2  A10  B10  K2\n",
            "3  A11  B11  K3\n",
            "\n",
            "Merge by key\n",
            "\n",
            "  A_x B_x key A_y B_y\n",
            "0  A0  B0  K0  A4  B4\n",
            "1  A1  B1  K1  A5  B5\n",
            "2  A2  B2  K2  A6  B6\n",
            "3  A3  B3  K3  A7  B7\n",
            "  A_x B_x key A_y B_y    A    B\n",
            "0  A0  B0  K0  A4  B4   A8   B8\n",
            "1  A1  B1  K1  A5  B5   A9   B9\n",
            "2  A2  B2  K2  A6  B6  A10  B10\n",
            "3  A3  B3  K3  A7  B7  A11  B11\n"
          ]
        }
      ]
    },
    {
      "cell_type": "code",
      "source": [
        "t = ('a', 1, 3.5)\n",
        "print(t[0], len(t))\n",
        "print(t.count('a'), t.index(1))\n"
      ],
      "metadata": {
        "colab": {
          "base_uri": "https://localhost:8080/"
        },
        "id": "2QbUO0IkP4TS",
        "outputId": "b4b50852-2b01-4869-a199-ef7987207615"
      },
      "execution_count": 18,
      "outputs": [
        {
          "output_type": "stream",
          "name": "stdout",
          "text": [
            "a 3\n",
            "1 1\n"
          ]
        }
      ]
    },
    {
      "cell_type": "code",
      "source": [
        "x = set()\n",
        "x.add(1)\n",
        "x.add(2)\n",
        "x.add(1)   # duplicates ignored\n",
        "print(x)\n"
      ],
      "metadata": {
        "colab": {
          "base_uri": "https://localhost:8080/"
        },
        "id": "uVt3HDDLP-bd",
        "outputId": "aba7a38f-95f1-4c2c-dc8e-389286855f51"
      },
      "execution_count": 19,
      "outputs": [
        {
          "output_type": "stream",
          "name": "stdout",
          "text": [
            "{1, 2}\n"
          ]
        }
      ]
    },
    {
      "cell_type": "code",
      "source": [
        "my_dict = {'key1':123, 'key2':[12,23,33], 'key3':['item0','item1','item2']}\n",
        "print(my_dict['key2'][1])\n",
        "my_dict['key1'] -= 23\n",
        "print(my_dict)\n",
        "print(my_dict.keys(), my_dict.values(), my_dict.items())\n"
      ],
      "metadata": {
        "colab": {
          "base_uri": "https://localhost:8080/"
        },
        "id": "wDYBcKpxQBz1",
        "outputId": "bc9934b4-8ece-42d0-bf00-7203ea83829c"
      },
      "execution_count": 20,
      "outputs": [
        {
          "output_type": "stream",
          "name": "stdout",
          "text": [
            "23\n",
            "{'key1': 100, 'key2': [12, 23, 33], 'key3': ['item0', 'item1', 'item2']}\n",
            "dict_keys(['key1', 'key2', 'key3']) dict_values([100, [12, 23, 33], ['item0', 'item1', 'item2']]) dict_items([('key1', 100), ('key2', [12, 23, 33]), ('key3', ['item0', 'item1', 'item2'])])\n"
          ]
        }
      ]
    },
    {
      "cell_type": "code",
      "source": [
        "from functools import reduce\n",
        "\n",
        "def add_num(a,b): return a+b\n",
        "nums = [1,2,3,4,5]\n",
        "print(\"Map:\", list(map(lambda x:x**2, nums)))\n",
        "print(\"Filter:\", list(filter(lambda x:x%2==0, nums)))\n",
        "print(\"Reduce:\", reduce(add_num, nums))\n"
      ],
      "metadata": {
        "colab": {
          "base_uri": "https://localhost:8080/"
        },
        "id": "CwSRJUXqQFMf",
        "outputId": "a8beb873-92af-4f99-fb33-f47c59638f74"
      },
      "execution_count": 21,
      "outputs": [
        {
          "output_type": "stream",
          "name": "stdout",
          "text": [
            "Map: [1, 4, 9, 16, 25]\n",
            "Filter: [2, 4]\n",
            "Reduce: 15\n"
          ]
        }
      ]
    },
    {
      "cell_type": "code",
      "source": [
        "class Person:\n",
        "    def __init__(self, name, surname, birth_year):\n",
        "        self.name = name\n",
        "        self.surname = surname\n",
        "        self.birth_year = birth_year\n",
        "\n",
        "    def age(self, current_year):\n",
        "        return current_year - self.birth_year\n",
        "\n",
        "    def __str__(self):\n",
        "        return f\"{self.name} {self.surname}\"\n",
        "\n",
        "alec = Person(\"Alec\", \"Baldwin\", 1958)\n",
        "print(alec)\n",
        "print(\"Age:\", alec.age(2025))\n"
      ],
      "metadata": {
        "colab": {
          "base_uri": "https://localhost:8080/"
        },
        "id": "JNHwVK-6QJop",
        "outputId": "23b71451-c831-410b-98e4-7ef6a0637419"
      },
      "execution_count": 22,
      "outputs": [
        {
          "output_type": "stream",
          "name": "stdout",
          "text": [
            "Alec Baldwin\n",
            "Age: 67\n"
          ]
        }
      ]
    },
    {
      "cell_type": "code",
      "source": [
        "#extra use cases\n",
        "print(\"Hello\", \"world\")\n",
        "print(\"Hello\" \"world\", sep='')"
      ],
      "metadata": {
        "id": "mCxM3UnkL2Ni"
      },
      "execution_count": null,
      "outputs": []
    },
    {
      "cell_type": "code",
      "source": [
        "!apt-get install -y git\n",
        "!git config --global user.email \"kaurratinder130@gmail.com\"\n",
        "!git config --global user.name \"kaurratinder130-bit\""
      ],
      "metadata": {
        "colab": {
          "base_uri": "https://localhost:8080/"
        },
        "id": "2ZSqe4awWfz6",
        "outputId": "bde5f323-20cc-498d-8e25-cc83fc2e742e"
      },
      "execution_count": 24,
      "outputs": [
        {
          "output_type": "stream",
          "name": "stdout",
          "text": [
            "Reading package lists... Done\n",
            "Building dependency tree... Done\n",
            "Reading state information... Done\n",
            "git is already the newest version (1:2.34.1-1ubuntu1.15).\n",
            "0 upgraded, 0 newly installed, 0 to remove and 38 not upgraded.\n"
          ]
        }
      ]
    },
    {
      "cell_type": "code",
      "source": [
        "!git clone https://github.com/kaurratinder130-bit/helloworld.git"
      ],
      "metadata": {
        "colab": {
          "base_uri": "https://localhost:8080/"
        },
        "id": "5I59UrnzWpYv",
        "outputId": "3c431368-ef7e-4fc3-c90f-535139dba3e0"
      },
      "execution_count": 26,
      "outputs": [
        {
          "output_type": "stream",
          "name": "stdout",
          "text": [
            "Cloning into 'helloworld'...\n",
            "remote: Enumerating objects: 48, done.\u001b[K\n",
            "remote: Counting objects: 100% (48/48), done.\u001b[K\n",
            "remote: Compressing objects: 100% (46/46), done.\u001b[K\n",
            "Receiving objects: 100% (48/48), 23.58 KiB | 11.79 MiB/s, done.\n",
            "remote: Total 48 (delta 24), reused 7 (delta 0), pack-reused 0 (from 0)\u001b[K\n",
            "Resolving deltas: 100% (24/24), done.\n"
          ]
        }
      ]
    },
    {
      "cell_type": "code",
      "source": [
        "%cd helloworld"
      ],
      "metadata": {
        "colab": {
          "base_uri": "https://localhost:8080/"
        },
        "id": "0z11u3oCWu07",
        "outputId": "2d030670-db81-4edf-9a49-23fa0333e55b"
      },
      "execution_count": 28,
      "outputs": [
        {
          "output_type": "stream",
          "name": "stdout",
          "text": [
            "/content/helloworld\n"
          ]
        }
      ]
    },
    {
      "cell_type": "code",
      "source": [
        "!git status"
      ],
      "metadata": {
        "colab": {
          "base_uri": "https://localhost:8080/"
        },
        "id": "jOSC4fvDW6B7",
        "outputId": "4dd0aa85-bd7d-483b-ecb8-f3dbc75d7dfb"
      },
      "execution_count": 31,
      "outputs": [
        {
          "output_type": "stream",
          "name": "stdout",
          "text": [
            "On branch main\n",
            "Your branch is up to date with 'origin/main'.\n",
            "\n",
            "nothing to commit, working tree clean\n"
          ]
        }
      ]
    },
    {
      "cell_type": "code",
      "source": [
        "from google.colab import drive\n",
        "drive.mount('/content/drive',force_remount=True)"
      ],
      "metadata": {
        "colab": {
          "base_uri": "https://localhost:8080/"
        },
        "id": "wGMhTKioW-LK",
        "outputId": "8e8a972f-539c-4932-f981-915922e1328c"
      },
      "execution_count": 33,
      "outputs": [
        {
          "output_type": "stream",
          "name": "stdout",
          "text": [
            "Mounted at /content/drive\n"
          ]
        }
      ]
    },
    {
      "cell_type": "code",
      "source": [
        "!ls \"/content/drive/MyDrive/Colab Notebooks\""
      ],
      "metadata": {
        "colab": {
          "base_uri": "https://localhost:8080/"
        },
        "id": "ZNyYoYv8XH_i",
        "outputId": "14030a88-585f-4c17-fb95-b687d65ec2b5"
      },
      "execution_count": 35,
      "outputs": [
        {
          "output_type": "stream",
          "name": "stdout",
          "text": [
            "'Another copy of Lesson_3_Lab_python_refresher.ipynb'\n",
            " assignment2.ipynb\n",
            "'Copy of LAB1.ipynb'\n",
            "'Copy of Lesson_3_assignment_RatinderKaur.ipynb'\n",
            "'Copy of Lesson_3_Lab_python_refresher (1).ipynb'\n",
            "'Copy of Lesson_3_Lab_python_refresher (2).ipynb'\n",
            "'Copy of Lesson_3_Lab_python_refresher.ipynb'\n",
            "'Copy of lesson4.ipynb'\n",
            "'Copy of test23 (1).ipynb'\n",
            "'Copy of test23.ipynb'\n",
            "'Copy of test24.ipynb'\n",
            "'Copy of test25.ipynb'\n",
            "'Copy of test26 (1).ipynb'\n",
            "'Copy of test26.ipynb'\n",
            "'Copy of test27.ipynb'\n",
            "'Copy of Untitled3.ipynb'\n",
            "'Copy of Untitled4.ipynb'\n",
            "'Copy of Untitled5.ipynb'\n",
            " datasets\n",
            "'datasets (1).zip'\n",
            "'datasets (2).zip'\n",
            " datasets.zip\n",
            " final2.ipynb\n",
            " greet_function.py\n",
            " LAB1.ipynb\n",
            " Lab3.ipynb\n",
            " Lesson_3_assignment_RatinderKaur.ipynb\n",
            " Lesson_3_Lab_python_refresher.ipynb\n",
            " lesson4.ipynb\n",
            " patients.csv\n",
            " patients.db\n",
            " patients.pkl\n",
            " test1.ipynb\n",
            " test23.ipynb\n",
            " test24.ipynb\n",
            " test25.ipynb\n",
            " test27.ipynb\n",
            " Untitled0.ipynb\n",
            " Untitled1.ipynb\n",
            " Untitled2.ipynb\n",
            " Untitled3.ipynb\n",
            " Untitled4.ipynb\n",
            " Untitled5.ipynb\n"
          ]
        }
      ]
    },
    {
      "cell_type": "code",
      "source": [
        "!cp \"/content/drive/MyDrive/Colab Notebooks/lesson4.ipynb\" ."
      ],
      "metadata": {
        "id": "U-x9zFRaXMqt"
      },
      "execution_count": 37,
      "outputs": []
    },
    {
      "cell_type": "code",
      "source": [
        "!git add lesson4.ipynb\n",
        "\n",
        "!git commit -m \"Add to notebook\"\n"
      ],
      "metadata": {
        "colab": {
          "base_uri": "https://localhost:8080/"
        },
        "id": "JvMy-gb6WM65",
        "outputId": "4fee9f46-8bde-4b4f-d308-9cce7e8cea47"
      },
      "execution_count": 38,
      "outputs": [
        {
          "output_type": "stream",
          "name": "stdout",
          "text": [
            "[main 3e59f24] Add to notebook\n",
            " 1 file changed, 1 insertion(+)\n",
            " create mode 100644 lesson4.ipynb\n"
          ]
        }
      ]
    }
  ]
}