{
  "nbformat": 4,
  "nbformat_minor": 0,
  "metadata": {
    "colab": {
      "provenance": [],
      "authorship_tag": "ABX9TyNw8XUgZFScinPZCJEvAyi+",
      "include_colab_link": true
    },
    "kernelspec": {
      "name": "python3",
      "display_name": "Python 3"
    },
    "language_info": {
      "name": "python"
    }
  },
  "cells": [
    {
      "cell_type": "markdown",
      "metadata": {
        "id": "view-in-github",
        "colab_type": "text"
      },
      "source": [
        "<a href=\"https://colab.research.google.com/github/kaurratinder130-bit/helloworld/blob/main/Untitled6.ipynb\" target=\"_parent\"><img src=\"https://colab.research.google.com/assets/colab-badge.svg\" alt=\"Open In Colab\"/></a>"
      ]
    },
    {
      "cell_type": "code",
      "execution_count": 2,
      "metadata": {
        "colab": {
          "base_uri": "https://localhost:8080/"
        },
        "id": "UybMizg16CB0",
        "outputId": "c07a69f2-919f-4745-d290-01848eb95366"
      },
      "outputs": [
        {
          "output_type": "stream",
          "name": "stdout",
          "text": [
            "\u001b[33mhint: Using 'master' as the name for the initial branch. This default branch name\u001b[m\n",
            "\u001b[33mhint: is subject to change. To configure the initial branch name to use in all\u001b[m\n",
            "\u001b[33mhint: of your new repositories, which will suppress this warning, call:\u001b[m\n",
            "\u001b[33mhint: \u001b[m\n",
            "\u001b[33mhint: \tgit config --global init.defaultBranch <name>\u001b[m\n",
            "\u001b[33mhint: \u001b[m\n",
            "\u001b[33mhint: Names commonly chosen instead of 'master' are 'main', 'trunk' and\u001b[m\n",
            "\u001b[33mhint: 'development'. The just-created branch can be renamed via this command:\u001b[m\n",
            "\u001b[33mhint: \u001b[m\n",
            "\u001b[33mhint: \tgit branch -m <name>\u001b[m\n",
            "Initialized empty Git repository in /content/.git/\n",
            "Switched to a new branch 'feature-branch'\n",
            "Author identity unknown\n",
            "\n",
            "*** Please tell me who you are.\n",
            "\n",
            "Run\n",
            "\n",
            "  git config --global user.email \"you@example.com\"\n",
            "  git config --global user.name \"Your Name\"\n",
            "\n",
            "to set your account's default identity.\n",
            "Omit --global to set the identity only in this repository.\n",
            "\n",
            "fatal: unable to auto-detect email address (got 'root@637fbdb5cd24.(none)')\n",
            "error: src refspec feature-branch does not match any\n",
            "\u001b[31merror: failed to push some refs to 'https://github.com/youruskaurratinder130-bit/helloworld.git'\n",
            "\u001b[m"
          ]
        }
      ],
      "source": [
        "# 1️ Initialize git repository\n",
        "!git init\n",
        "\n",
        "# 2️Add GitHub remote (replace URL with your repo)\n",
        "!git remote add origin https://github.com/youruskaurratinder130-bit/helloworld.git\n",
        "\n",
        "# 3️ Create and switch to a new branch\n",
        "!git checkout -b feature-branch\n",
        "\n",
        "# 4️ Add all files\n",
        "!git add .\n",
        "\n",
        "# 5️Commit changes\n",
        "!git commit -m \"Initial commit on feature-branch\"\n",
        "\n",
        "# 6️ Push branch to GitHub\n",
        "#!git push -u origin feature-branch\n",
        "\n"
      ]
    }
  ]
}