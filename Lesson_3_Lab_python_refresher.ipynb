{
  "nbformat": 4,
  "nbformat_minor": 0,
  "metadata": {
    "colab": {
      "provenance": [],
      "authorship_tag": "ABX9TyPavNQcyHpsZoS1VXa4TVnO",
      "include_colab_link": true
    },
    "kernelspec": {
      "name": "python3",
      "display_name": "Python 3"
    },
    "language_info": {
      "name": "python"
    }
  },
  "cells": [
    {
      "cell_type": "markdown",
      "metadata": {
        "id": "view-in-github",
        "colab_type": "text"
      },
      "source": [
        "<a href=\"https://colab.research.google.com/github/kaurratinder130-bit/helloworld/blob/main/Lesson_3_Lab_python_refresher.ipynb\" target=\"_parent\"><img src=\"https://colab.research.google.com/assets/colab-badge.svg\" alt=\"Open In Colab\"/></a>"
      ]
    },
    {
      "cell_type": "code",
      "execution_count": 11,
      "metadata": {
        "colab": {
          "base_uri": "https://localhost:8080/"
        },
        "id": "bW4_UxcuFhQU",
        "outputId": "f291b01d-3e51-4b9b-901a-60e89d5ca9ab"
      },
      "outputs": [
        {
          "output_type": "stream",
          "name": "stdout",
          "text": [
            "Mounted at /content/drive\n"
          ]
        }
      ],
      "source": [
        "from google.colab import drive\n",
        "drive.mount('/content/drive')\n",
        "\n"
      ]
    },
    {
      "cell_type": "code",
      "source": [
        "%cd /content/drive/MyDrive/Colab\\ Notebooks/"
      ],
      "metadata": {
        "colab": {
          "base_uri": "https://localhost:8080/"
        },
        "id": "aO8kJK1yTwrY",
        "outputId": "113e7aa8-e76d-42c8-9581-8e03955a0cbd"
      },
      "execution_count": 12,
      "outputs": [
        {
          "output_type": "stream",
          "name": "stdout",
          "text": [
            "/content/drive/MyDrive/Colab Notebooks\n"
          ]
        }
      ]
    },
    {
      "cell_type": "code",
      "source": [
        "!unzip -o /content/datasets.zip\n"
      ],
      "metadata": {
        "colab": {
          "base_uri": "https://localhost:8080/"
        },
        "id": "v1_UW-nMT1XS",
        "outputId": "2b86edab-5f18-4bbf-f060-b364102284b5"
      },
      "execution_count": 15,
      "outputs": [
        {
          "output_type": "stream",
          "name": "stdout",
          "text": [
            "Archive:  /content/datasets.zip\n",
            "   creating: datasets/\n",
            "  inflating: datasets/csv_mindex.csv  \n",
            "  inflating: datasets/diabetes.csv   \n",
            "  inflating: datasets/ex1.xlsx       \n",
            "  inflating: datasets/ex2.csv        \n",
            "  inflating: datasets/ex3.csv        \n",
            "  inflating: datasets/ex3.txt        \n",
            "  inflating: datasets/ex4.csv        \n",
            "  inflating: datasets/ex5.csv        \n",
            "  inflating: datasets/ex6.csv        \n",
            "  inflating: datasets/ex7.csv        \n",
            "  inflating: datasets/example.json   \n",
            "  inflating: datasets/out.csv        \n",
            "  inflating: datasets/sample_sales_data.xlsx  \n",
            "  inflating: datasets/stock_px.csv   \n",
            "  inflating: datasets/test.tsv       \n",
            "  inflating: datasets/test_file.csv  \n",
            "  inflating: datasets/Titanic-Dataset.csv  \n",
            "  inflating: datasets/tseries.csv    \n"
          ]
        }
      ]
    },
    {
      "cell_type": "code",
      "source": [
        "from google.colab import files\n",
        "uploaded = files.upload()  # select datasets.zip from your computer\n"
      ],
      "metadata": {
        "colab": {
          "base_uri": "https://localhost:8080/",
          "height": 73
        },
        "id": "ppTK9Jo3UH0s",
        "outputId": "31050174-0f97-414d-d238-6902c2bd7428"
      },
      "execution_count": 16,
      "outputs": [
        {
          "output_type": "display_data",
          "data": {
            "text/plain": [
              "<IPython.core.display.HTML object>"
            ],
            "text/html": [
              "\n",
              "     <input type=\"file\" id=\"files-f65a6c57-1c19-49ae-809c-efe28a08cbdb\" name=\"files[]\" multiple disabled\n",
              "        style=\"border:none\" />\n",
              "     <output id=\"result-f65a6c57-1c19-49ae-809c-efe28a08cbdb\">\n",
              "      Upload widget is only available when the cell has been executed in the\n",
              "      current browser session. Please rerun this cell to enable.\n",
              "      </output>\n",
              "      <script>// Copyright 2017 Google LLC\n",
              "//\n",
              "// Licensed under the Apache License, Version 2.0 (the \"License\");\n",
              "// you may not use this file except in compliance with the License.\n",
              "// You may obtain a copy of the License at\n",
              "//\n",
              "//      http://www.apache.org/licenses/LICENSE-2.0\n",
              "//\n",
              "// Unless required by applicable law or agreed to in writing, software\n",
              "// distributed under the License is distributed on an \"AS IS\" BASIS,\n",
              "// WITHOUT WARRANTIES OR CONDITIONS OF ANY KIND, either express or implied.\n",
              "// See the License for the specific language governing permissions and\n",
              "// limitations under the License.\n",
              "\n",
              "/**\n",
              " * @fileoverview Helpers for google.colab Python module.\n",
              " */\n",
              "(function(scope) {\n",
              "function span(text, styleAttributes = {}) {\n",
              "  const element = document.createElement('span');\n",
              "  element.textContent = text;\n",
              "  for (const key of Object.keys(styleAttributes)) {\n",
              "    element.style[key] = styleAttributes[key];\n",
              "  }\n",
              "  return element;\n",
              "}\n",
              "\n",
              "// Max number of bytes which will be uploaded at a time.\n",
              "const MAX_PAYLOAD_SIZE = 100 * 1024;\n",
              "\n",
              "function _uploadFiles(inputId, outputId) {\n",
              "  const steps = uploadFilesStep(inputId, outputId);\n",
              "  const outputElement = document.getElementById(outputId);\n",
              "  // Cache steps on the outputElement to make it available for the next call\n",
              "  // to uploadFilesContinue from Python.\n",
              "  outputElement.steps = steps;\n",
              "\n",
              "  return _uploadFilesContinue(outputId);\n",
              "}\n",
              "\n",
              "// This is roughly an async generator (not supported in the browser yet),\n",
              "// where there are multiple asynchronous steps and the Python side is going\n",
              "// to poll for completion of each step.\n",
              "// This uses a Promise to block the python side on completion of each step,\n",
              "// then passes the result of the previous step as the input to the next step.\n",
              "function _uploadFilesContinue(outputId) {\n",
              "  const outputElement = document.getElementById(outputId);\n",
              "  const steps = outputElement.steps;\n",
              "\n",
              "  const next = steps.next(outputElement.lastPromiseValue);\n",
              "  return Promise.resolve(next.value.promise).then((value) => {\n",
              "    // Cache the last promise value to make it available to the next\n",
              "    // step of the generator.\n",
              "    outputElement.lastPromiseValue = value;\n",
              "    return next.value.response;\n",
              "  });\n",
              "}\n",
              "\n",
              "/**\n",
              " * Generator function which is called between each async step of the upload\n",
              " * process.\n",
              " * @param {string} inputId Element ID of the input file picker element.\n",
              " * @param {string} outputId Element ID of the output display.\n",
              " * @return {!Iterable<!Object>} Iterable of next steps.\n",
              " */\n",
              "function* uploadFilesStep(inputId, outputId) {\n",
              "  const inputElement = document.getElementById(inputId);\n",
              "  inputElement.disabled = false;\n",
              "\n",
              "  const outputElement = document.getElementById(outputId);\n",
              "  outputElement.innerHTML = '';\n",
              "\n",
              "  const pickedPromise = new Promise((resolve) => {\n",
              "    inputElement.addEventListener('change', (e) => {\n",
              "      resolve(e.target.files);\n",
              "    });\n",
              "  });\n",
              "\n",
              "  const cancel = document.createElement('button');\n",
              "  inputElement.parentElement.appendChild(cancel);\n",
              "  cancel.textContent = 'Cancel upload';\n",
              "  const cancelPromise = new Promise((resolve) => {\n",
              "    cancel.onclick = () => {\n",
              "      resolve(null);\n",
              "    };\n",
              "  });\n",
              "\n",
              "  // Wait for the user to pick the files.\n",
              "  const files = yield {\n",
              "    promise: Promise.race([pickedPromise, cancelPromise]),\n",
              "    response: {\n",
              "      action: 'starting',\n",
              "    }\n",
              "  };\n",
              "\n",
              "  cancel.remove();\n",
              "\n",
              "  // Disable the input element since further picks are not allowed.\n",
              "  inputElement.disabled = true;\n",
              "\n",
              "  if (!files) {\n",
              "    return {\n",
              "      response: {\n",
              "        action: 'complete',\n",
              "      }\n",
              "    };\n",
              "  }\n",
              "\n",
              "  for (const file of files) {\n",
              "    const li = document.createElement('li');\n",
              "    li.append(span(file.name, {fontWeight: 'bold'}));\n",
              "    li.append(span(\n",
              "        `(${file.type || 'n/a'}) - ${file.size} bytes, ` +\n",
              "        `last modified: ${\n",
              "            file.lastModifiedDate ? file.lastModifiedDate.toLocaleDateString() :\n",
              "                                    'n/a'} - `));\n",
              "    const percent = span('0% done');\n",
              "    li.appendChild(percent);\n",
              "\n",
              "    outputElement.appendChild(li);\n",
              "\n",
              "    const fileDataPromise = new Promise((resolve) => {\n",
              "      const reader = new FileReader();\n",
              "      reader.onload = (e) => {\n",
              "        resolve(e.target.result);\n",
              "      };\n",
              "      reader.readAsArrayBuffer(file);\n",
              "    });\n",
              "    // Wait for the data to be ready.\n",
              "    let fileData = yield {\n",
              "      promise: fileDataPromise,\n",
              "      response: {\n",
              "        action: 'continue',\n",
              "      }\n",
              "    };\n",
              "\n",
              "    // Use a chunked sending to avoid message size limits. See b/62115660.\n",
              "    let position = 0;\n",
              "    do {\n",
              "      const length = Math.min(fileData.byteLength - position, MAX_PAYLOAD_SIZE);\n",
              "      const chunk = new Uint8Array(fileData, position, length);\n",
              "      position += length;\n",
              "\n",
              "      const base64 = btoa(String.fromCharCode.apply(null, chunk));\n",
              "      yield {\n",
              "        response: {\n",
              "          action: 'append',\n",
              "          file: file.name,\n",
              "          data: base64,\n",
              "        },\n",
              "      };\n",
              "\n",
              "      let percentDone = fileData.byteLength === 0 ?\n",
              "          100 :\n",
              "          Math.round((position / fileData.byteLength) * 100);\n",
              "      percent.textContent = `${percentDone}% done`;\n",
              "\n",
              "    } while (position < fileData.byteLength);\n",
              "  }\n",
              "\n",
              "  // All done.\n",
              "  yield {\n",
              "    response: {\n",
              "      action: 'complete',\n",
              "    }\n",
              "  };\n",
              "}\n",
              "\n",
              "scope.google = scope.google || {};\n",
              "scope.google.colab = scope.google.colab || {};\n",
              "scope.google.colab._files = {\n",
              "  _uploadFiles,\n",
              "  _uploadFilesContinue,\n",
              "};\n",
              "})(self);\n",
              "</script> "
            ]
          },
          "metadata": {}
        },
        {
          "output_type": "stream",
          "name": "stdout",
          "text": [
            "Saving datasets.zip to datasets.zip\n"
          ]
        }
      ]
    },
    {
      "cell_type": "code",
      "source": [
        "!ls\n"
      ],
      "metadata": {
        "colab": {
          "base_uri": "https://localhost:8080/"
        },
        "id": "FMapM9fQUzpl",
        "outputId": "2bf63153-7fbb-4c8c-dce1-213db9528d49"
      },
      "execution_count": 17,
      "outputs": [
        {
          "output_type": "stream",
          "name": "stdout",
          "text": [
            " assignment2.ipynb\n",
            "'Copy of LAB1.ipynb'\n",
            "'Copy of Lesson_3_assignment_RatinderKaur.ipynb'\n",
            "'Copy of Lesson_3_Lab_python_refresher.ipynb'\n",
            "'Copy of test23 (1).ipynb'\n",
            "'Copy of test23.ipynb'\n",
            "'Copy of test24.ipynb'\n",
            "'Copy of test25.ipynb'\n",
            "'Copy of test26 (1).ipynb'\n",
            "'Copy of test26.ipynb'\n",
            "'Copy of test27.ipynb'\n",
            "'Copy of Untitled3.ipynb'\n",
            "'Copy of Untitled4.ipynb'\n",
            "'Copy of Untitled5.ipynb'\n",
            " datasets\n",
            " datasets.zip\n",
            " final2.ipynb\n",
            " greet_function.py\n",
            " LAB1.ipynb\n",
            " Lab3.ipynb\n",
            " Lesson_3_assignment_RatinderKaur.ipynb\n",
            " Lesson_3_Lab_python_refresher.ipynb\n",
            " test1.ipynb\n",
            " test23.ipynb\n",
            " test24.ipynb\n",
            " test25.ipynb\n",
            " test27.ipynb\n",
            " Untitled0.ipynb\n",
            " Untitled1.ipynb\n",
            " Untitled2.ipynb\n",
            " Untitled3.ipynb\n",
            " Untitled4.ipynb\n"
          ]
        }
      ]
    },
    {
      "cell_type": "code",
      "source": [
        "import os\n",
        "\n",
        "# Unzip dataset if it exists\n",
        "if os.path.exists(\"datasets.zip\"):\n",
        "    !unzip -o datasets.zip\n",
        "    print(\"Datasets unzipped successfully.\")\n",
        "else:\n",
        "    print(\"datasets.zip not found in folder.\")\n",
        "\n",
        "# List CSV files\n",
        "csv_files = [f for f in os.listdir() if f.endswith(\".csv\")]\n",
        "print(\"CSV files available:\", csv_files)\n",
        "\n",
        "# Load the first CSV as example\n",
        "import pandas as pd\n",
        "if csv_files:\n",
        "    df = pd.read_csv(csv_files[0])\n",
        "    print(\"First 5 rows of\", csv_files[0])\n",
        "    print(df.head())\n",
        "else:\n",
        "    print(\"No CSV files found\")\n",
        "\n",
        "\n"
      ],
      "metadata": {
        "colab": {
          "base_uri": "https://localhost:8080/"
        },
        "id": "LofSN2yKU3hB",
        "outputId": "b98b2b2e-2171-45dd-bc47-878da1304538"
      },
      "execution_count": 20,
      "outputs": [
        {
          "output_type": "stream",
          "name": "stdout",
          "text": [
            "Archive:  datasets.zip\n",
            "  inflating: datasets/csv_mindex.csv  \n",
            "  inflating: datasets/diabetes.csv   \n",
            "  inflating: datasets/ex1.xlsx       \n",
            "  inflating: datasets/ex2.csv        \n",
            "  inflating: datasets/ex3.csv        \n",
            "  inflating: datasets/ex3.txt        \n",
            "  inflating: datasets/ex4.csv        \n",
            "  inflating: datasets/ex5.csv        \n",
            "  inflating: datasets/ex6.csv        \n",
            "  inflating: datasets/ex7.csv        \n",
            "  inflating: datasets/example.json   \n",
            "  inflating: datasets/out.csv        \n",
            "  inflating: datasets/sample_sales_data.xlsx  \n",
            "  inflating: datasets/stock_px.csv   \n",
            "  inflating: datasets/test.tsv       \n",
            "  inflating: datasets/test_file.csv  \n",
            "  inflating: datasets/Titanic-Dataset.csv  \n",
            "  inflating: datasets/tseries.csv    \n",
            "Datasets unzipped successfully.\n",
            "CSV files available: []\n",
            "No CSV files found\n"
          ]
        }
      ]
    },
    {
      "cell_type": "code",
      "source": [
        "# Numbers, strings, booleans\n",
        "x = 10\n",
        "y = 5.5\n",
        "name = \"Lab 3 Python Refresher\"\n",
        "is_open = True\n",
        "\n",
        "print(x, y, name, is_open)\n",
        "\n",
        "# Conditional logic\n",
        "if is_open:\n",
        "    print(\"Lab is ready\")\n",
        "else:\n",
        "    print(\"Lab not ready\")\n",
        "\n",
        "# Loop example\n",
        "for i in range(3):\n",
        "    print(f\"Iteration {i+1}, Even? {i%2==0}\")\n"
      ],
      "metadata": {
        "colab": {
          "base_uri": "https://localhost:8080/"
        },
        "id": "rMw1vB_vGBM4",
        "outputId": "39277f7d-cae9-4a86-f9a8-592bb12e0292"
      },
      "execution_count": 21,
      "outputs": [
        {
          "output_type": "stream",
          "name": "stdout",
          "text": [
            "10 5.5 Lab 3 Python Refresher True\n",
            "Lab is ready\n",
            "Iteration 1, Even? True\n",
            "Iteration 2, Even? False\n",
            "Iteration 3, Even? True\n"
          ]
        }
      ]
    },
    {
      "cell_type": "code",
      "source": [
        "!git init\n",
        "!git config --global user.name \"Ratinder Kaur\"\n",
        "!git config --global user.email \"ratinder.kaur@canadaacumen.ca\"\n"
      ],
      "metadata": {
        "colab": {
          "base_uri": "https://localhost:8080/"
        },
        "id": "UIsuzV5fXuIX",
        "outputId": "b33edcf2-9c00-4f9a-966c-6aa88e4631a1"
      },
      "execution_count": 22,
      "outputs": [
        {
          "output_type": "stream",
          "name": "stdout",
          "text": [
            "Reinitialized existing Git repository in /content/drive/MyDrive/Colab Notebooks/.git/\n"
          ]
        }
      ]
    },
    {
      "cell_type": "code",
      "source": [
        "!git remote -v"
      ],
      "metadata": {
        "colab": {
          "base_uri": "https://localhost:8080/"
        },
        "id": "P54G47YWX1di",
        "outputId": "c43f0612-1f89-4b3a-a1a8-4964d6c7624e"
      },
      "execution_count": 24,
      "outputs": [
        {
          "output_type": "stream",
          "name": "stdout",
          "text": [
            "origin\thttps://kaurratinder130-bit:@github.com/{token]kaurratinder130-bit/helloworld.git (fetch)\n",
            "origin\thttps://kaurratinder130-bit:@github.com/{token]kaurratinder130-bit/helloworld.git (push)\n"
          ]
        }
      ]
    },
    {
      "cell_type": "code",
      "source": [
        "!git add Lesson_3_lab_python_refresher.ipynb\n",
        "!git commit -m \"Commit 1: Fundamentals of Python\"\n",
        "!git push origin main\n"
      ],
      "metadata": {
        "colab": {
          "base_uri": "https://localhost:8080/"
        },
        "id": "cijtzVwjYXEu",
        "outputId": "1fe3c33f-663c-4490-9bb7-0d010784cbdd"
      },
      "execution_count": 25,
      "outputs": [
        {
          "output_type": "stream",
          "name": "stdout",
          "text": [
            "fatal: pathspec 'Lesson_3_lab_python_refresher.ipynb' did not match any files\n",
            "On branch main\n",
            "Changes not staged for commit:\n",
            "  (use \"git add <file>...\" to update what will be committed)\n",
            "  (use \"git restore <file>...\" to discard changes in working directory)\n",
            "\t\u001b[31mmodified:   assignment2.ipynb\u001b[m\n",
            "\n",
            "Untracked files:\n",
            "  (use \"git add <file>...\" to include in what will be committed)\n",
            "\t\u001b[31mCopy of LAB1.ipynb\u001b[m\n",
            "\t\u001b[31mCopy of Lesson_3_Lab_python_refresher.ipynb\u001b[m\n",
            "\t\u001b[31mCopy of Lesson_3_assignment_RatinderKaur.ipynb\u001b[m\n",
            "\t\u001b[31mCopy of Untitled3.ipynb\u001b[m\n",
            "\t\u001b[31mCopy of Untitled4.ipynb\u001b[m\n",
            "\t\u001b[31mCopy of Untitled5.ipynb\u001b[m\n",
            "\t\u001b[31mCopy of test23 (1).ipynb\u001b[m\n",
            "\t\u001b[31mCopy of test23.ipynb\u001b[m\n",
            "\t\u001b[31mCopy of test24.ipynb\u001b[m\n",
            "\t\u001b[31mCopy of test25.ipynb\u001b[m\n",
            "\t\u001b[31mCopy of test26 (1).ipynb\u001b[m\n",
            "\t\u001b[31mCopy of test26.ipynb\u001b[m\n",
            "\t\u001b[31mCopy of test27.ipynb\u001b[m\n",
            "\t\u001b[31mLAB1.ipynb\u001b[m\n",
            "\t\u001b[31mLab3.ipynb\u001b[m\n",
            "\t\u001b[31mLesson_3_Lab_python_refresher.ipynb\u001b[m\n",
            "\t\u001b[31mLesson_3_assignment_RatinderKaur.ipynb\u001b[m\n",
            "\t\u001b[31mUntitled0.ipynb\u001b[m\n",
            "\t\u001b[31mUntitled1.ipynb\u001b[m\n",
            "\t\u001b[31mUntitled2.ipynb\u001b[m\n",
            "\t\u001b[31mUntitled3.ipynb\u001b[m\n",
            "\t\u001b[31mUntitled4.ipynb\u001b[m\n",
            "\t\u001b[31mdatasets.zip\u001b[m\n",
            "\t\u001b[31mdatasets/\u001b[m\n",
            "\t\u001b[31mfinal2.ipynb\u001b[m\n",
            "\t\u001b[31mtest1.ipynb\u001b[m\n",
            "\t\u001b[31mtest23.ipynb\u001b[m\n",
            "\t\u001b[31mtest24.ipynb\u001b[m\n",
            "\t\u001b[31mtest25.ipynb\u001b[m\n",
            "\t\u001b[31mtest27.ipynb\u001b[m\n",
            "\n",
            "no changes added to commit (use \"git add\" and/or \"git commit -a\")\n",
            "remote: Repository not found.\n",
            "fatal: repository 'https://github.com/{token]kaurratinder130-bit/helloworld.git/' not found\n"
          ]
        }
      ]
    },
    {
      "cell_type": "code",
      "source": [
        "!git remote -v\n"
      ],
      "metadata": {
        "colab": {
          "base_uri": "https://localhost:8080/"
        },
        "id": "i206eco1aFI5",
        "outputId": "269b9fbf-37c5-44e6-ddb9-d75ee31681e2"
      },
      "execution_count": 29,
      "outputs": [
        {
          "output_type": "stream",
          "name": "stdout",
          "text": [
            "origin\thttps://kaurratinder130-bit:@github.com/{token]kaurratinder130-bit/helloworld.git (fetch)\n",
            "origin\thttps://kaurratinder130-bit:@github.com/{token]kaurratinder130-bit/helloworld.git (push)\n"
          ]
        }
      ]
    },
    {
      "cell_type": "code",
      "source": [
        "!git remote set-url origin https://github.com/kaurratinder130-bit/helloworld.git\n"
      ],
      "metadata": {
        "id": "VXrrTM06aG6v"
      },
      "execution_count": 31,
      "outputs": []
    },
    {
      "cell_type": "code",
      "source": [
        "!git add Lesson_3_Lab_python_refresher.ipynb\n",
        "!git add Lesson_3_Lab_python_refresher.ipynb\n",
        "!git commit -m \"Commit 1: Fundamentals of Python\"\n",
        "!git push origin main\n",
        "\n",
        "\n",
        "\n"
      ],
      "metadata": {
        "colab": {
          "base_uri": "https://localhost:8080/"
        },
        "id": "e9K9HywxGFvh",
        "outputId": "9244749b-2518-43fd-f06f-db691650076d"
      },
      "execution_count": 32,
      "outputs": [
        {
          "output_type": "stream",
          "name": "stdout",
          "text": [
            "[main 8fcdf1d] Commit 1: Fundamentals of Python\n",
            " 1 file changed, 1 insertion(+), 1 deletion(-)\n",
            "fatal: could not read Username for 'https://github.com': No such device or address\n"
          ]
        }
      ]
    },
    {
      "cell_type": "code",
      "source": [
        "books = [\"Python Basics\", \"Data Science 101\", \"AI Fundamentals\"]\n",
        "\n",
        "# Add a book\n",
        "books.append(\"Machine Learning\")\n",
        "\n",
        "# Remove a book\n",
        "books.remove(\"AI Fundamentals\")\n",
        "\n",
        "# Print books\n",
        "print(\"Books available:\", books)\n"
      ],
      "metadata": {
        "colab": {
          "base_uri": "https://localhost:8080/"
        },
        "id": "9gJme4swIHPR",
        "outputId": "126ac1c4-a105-4d1a-a13c-603e6e23ab89"
      },
      "execution_count": 6,
      "outputs": [
        {
          "output_type": "stream",
          "name": "stdout",
          "text": [
            "Books available: ['Python Basics', 'Data Science 101', 'Machine Learning']\n"
          ]
        }
      ]
    },
    {
      "cell_type": "code",
      "source": [
        "# Print each book with index\n",
        "for idx, book in enumerate(books, start=1):\n",
        "    print(f\"{idx}. {book}\")\n",
        "\n",
        "# Number sequence\n",
        "for i in range(1, 6):\n",
        "    print(i)\n"
      ],
      "metadata": {
        "colab": {
          "base_uri": "https://localhost:8080/"
        },
        "id": "9d7gZM8bI6PD",
        "outputId": "6ac8eed3-b80a-4bb4-d436-d4ad899e3b23"
      },
      "execution_count": 7,
      "outputs": [
        {
          "output_type": "stream",
          "name": "stdout",
          "text": [
            "1. Python Basics\n",
            "2. Data Science 101\n",
            "3. Machine Learning\n",
            "1\n",
            "2\n",
            "3\n",
            "4\n",
            "5\n"
          ]
        }
      ]
    },
    {
      "cell_type": "code",
      "source": [
        "# Write books to file\n",
        "with open(\"books.txt\", \"w\") as f:\n",
        "    for book in books:\n",
        "        f.write(book + \"\\n\")\n",
        "\n",
        "# Read books from file\n",
        "with open(\"books.txt\", \"r\") as f:\n",
        "    books_from_file = f.readlines()\n",
        "books_from_file = [b.strip() for b in books_from_file]\n",
        "print(\"Books read from file:\", books_from_file)\n"
      ],
      "metadata": {
        "colab": {
          "base_uri": "https://localhost:8080/"
        },
        "id": "77QtfXD3I_gH",
        "outputId": "9c774755-0dde-418b-925e-2875c76972bb"
      },
      "execution_count": 8,
      "outputs": [
        {
          "output_type": "stream",
          "name": "stdout",
          "text": [
            "Books read from file: ['Python Basics', 'Data Science 101', 'Machine Learning']\n"
          ]
        }
      ]
    },
    {
      "cell_type": "code",
      "source": [
        "!git add Lesson_3_Lab_python_refresher.ipynb\n",
        "!git commit -m \"Commit 2: Working with Data\"\n"
      ],
      "metadata": {
        "colab": {
          "base_uri": "https://localhost:8080/"
        },
        "id": "yMmOYNqUKKn_",
        "outputId": "439776d2-cda5-448f-fc79-bcc13285d106"
      },
      "execution_count": 10,
      "outputs": [
        {
          "output_type": "stream",
          "name": "stdout",
          "text": [
            "fatal: not a git repository (or any of the parent directories): .git\n",
            "fatal: not a git repository (or any of the parent directories): .git\n"
          ]
        }
      ]
    }
  ]
}