{
  "nbformat": 4,
  "nbformat_minor": 0,
  "metadata": {
    "colab": {
      "provenance": [],
      "authorship_tag": "ABX9TyNwzqN5eWTHoIAzB4gdzb6i",
      "include_colab_link": true
    },
    "kernelspec": {
      "name": "python3",
      "display_name": "Python 3"
    },
    "language_info": {
      "name": "python"
    }
  },
  "cells": [
    {
      "cell_type": "markdown",
      "metadata": {
        "id": "view-in-github",
        "colab_type": "text"
      },
      "source": [
        "<a href=\"https://colab.research.google.com/github/kaurratinder130-bit/helloworld/blob/main/Lesson_3_Lab_python_refresher.ipynb\" target=\"_parent\"><img src=\"https://colab.research.google.com/assets/colab-badge.svg\" alt=\"Open In Colab\"/></a>"
      ]
    },
    {
      "cell_type": "code",
      "execution_count": null,
      "metadata": {
        "colab": {
          "base_uri": "https://localhost:8080/"
        },
        "id": "bW4_UxcuFhQU",
        "outputId": "0b0f0f48-c660-42c3-96e5-25c266ea3acb"
      },
      "outputs": [
        {
          "output_type": "stream",
          "name": "stdout",
          "text": [
            "10 5.5 Library Lab True\n",
            "Library is open\n",
            "x is greater than y\n"
          ]
        }
      ],
      "source": [
        "# Numbers\n",
        "x = 10\n",
        "y = 5.5\n",
        "\n",
        "# String\n",
        "name = \"Library Lab\"\n",
        "\n",
        "# Boolean\n",
        "is_open = True\n",
        "\n",
        "# Print variables\n",
        "print(x, y, name, is_open)\n",
        "\n",
        "# Check if library is open\n",
        "if is_open:\n",
        "    print(\"Library is open\")\n",
        "else:\n",
        "    print(\"Library is closed\")\n",
        "\n",
        "# Compare numbers\n",
        "if x > y:\n",
        "    print(\"x is greater than y\")\n",
        "\n",
        "\n"
      ]
    },
    {
      "cell_type": "code",
      "source": [
        "for i in range(3):\n",
        "    print(f\"Iteration {i+1}\")\n",
        "    if i % 2 == 0:\n",
        "        print(\"Even iteration\")\n"
      ],
      "metadata": {
        "colab": {
          "base_uri": "https://localhost:8080/"
        },
        "id": "rMw1vB_vGBM4",
        "outputId": "686746bd-d138-4ea4-892c-d75b27c12016"
      },
      "execution_count": null,
      "outputs": [
        {
          "output_type": "stream",
          "name": "stdout",
          "text": [
            "Iteration 1\n",
            "Even iteration\n",
            "Iteration 2\n",
            "Iteration 3\n",
            "Even iteration\n"
          ]
        }
      ]
    },
    {
      "cell_type": "code",
      "source": [
        "!git add Lesson_3_Lab_python_refresher.ipynb\n",
        "!git commit -m \"Commit 1: Fundamentals of Python\"\n"
      ],
      "metadata": {
        "colab": {
          "base_uri": "https://localhost:8080/"
        },
        "id": "e9K9HywxGFvh",
        "outputId": "b78a271f-2fd0-45ab-d869-8dad0ef37d40"
      },
      "execution_count": null,
      "outputs": [
        {
          "output_type": "stream",
          "name": "stdout",
          "text": [
            "fatal: not a git repository (or any of the parent directories): .git\n",
            "fatal: not a git repository (or any of the parent directories): .git\n"
          ]
        }
      ]
    },
    {
      "cell_type": "code",
      "source": [
        "books = [\"Python Basics\", \"Data Science 101\", \"AI Fundamentals\"]\n",
        "\n",
        "# Add a book\n",
        "books.append(\"Machine Learning\")\n",
        "\n",
        "# Remove a book\n",
        "books.remove(\"AI Fundamentals\")\n",
        "\n",
        "# Print books\n",
        "print(\"Books available:\", books)\n"
      ],
      "metadata": {
        "colab": {
          "base_uri": "https://localhost:8080/"
        },
        "id": "9gJme4swIHPR",
        "outputId": "126ac1c4-a105-4d1a-a13c-603e6e23ab89"
      },
      "execution_count": 6,
      "outputs": [
        {
          "output_type": "stream",
          "name": "stdout",
          "text": [
            "Books available: ['Python Basics', 'Data Science 101', 'Machine Learning']\n"
          ]
        }
      ]
    },
    {
      "cell_type": "code",
      "source": [
        "# Print each book with index\n",
        "for idx, book in enumerate(books, start=1):\n",
        "    print(f\"{idx}. {book}\")\n",
        "\n",
        "# Number sequence\n",
        "for i in range(1, 6):\n",
        "    print(i)\n"
      ],
      "metadata": {
        "colab": {
          "base_uri": "https://localhost:8080/"
        },
        "id": "9d7gZM8bI6PD",
        "outputId": "6ac8eed3-b80a-4bb4-d436-d4ad899e3b23"
      },
      "execution_count": 7,
      "outputs": [
        {
          "output_type": "stream",
          "name": "stdout",
          "text": [
            "1. Python Basics\n",
            "2. Data Science 101\n",
            "3. Machine Learning\n",
            "1\n",
            "2\n",
            "3\n",
            "4\n",
            "5\n"
          ]
        }
      ]
    },
    {
      "cell_type": "code",
      "source": [
        "# Write books to file\n",
        "with open(\"books.txt\", \"w\") as f:\n",
        "    for book in books:\n",
        "        f.write(book + \"\\n\")\n",
        "\n",
        "# Read books from file\n",
        "with open(\"books.txt\", \"r\") as f:\n",
        "    books_from_file = f.readlines()\n",
        "books_from_file = [b.strip() for b in books_from_file]\n",
        "print(\"Books read from file:\", books_from_file)\n"
      ],
      "metadata": {
        "colab": {
          "base_uri": "https://localhost:8080/"
        },
        "id": "77QtfXD3I_gH",
        "outputId": "9c774755-0dde-418b-925e-2875c76972bb"
      },
      "execution_count": 8,
      "outputs": [
        {
          "output_type": "stream",
          "name": "stdout",
          "text": [
            "Books read from file: ['Python Basics', 'Data Science 101', 'Machine Learning']\n"
          ]
        }
      ]
    },
    {
      "cell_type": "code",
      "source": [
        "!git add Lesson_3_Lab_python_refresher.ipynb\n",
        "!git commit -m \"Commit 2: Working with Data\"\n"
      ],
      "metadata": {
        "colab": {
          "base_uri": "https://localhost:8080/"
        },
        "id": "yMmOYNqUKKn_",
        "outputId": "ce144ebe-dcfb-4008-d817-f76b215ba7fa"
      },
      "execution_count": 9,
      "outputs": [
        {
          "output_type": "stream",
          "name": "stdout",
          "text": [
            "fatal: not a git repository (or any of the parent directories): .git\n",
            "fatal: not a git repository (or any of the parent directories): .git\n"
          ]
        }
      ]
    }
  ]
}