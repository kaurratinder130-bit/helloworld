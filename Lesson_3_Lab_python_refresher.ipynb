{
  "nbformat": 4,
  "nbformat_minor": 0,
  "metadata": {
    "colab": {
      "provenance": [],
      "authorship_tag": "ABX9TyOo6SD79J7oyOpGzO1htB+D",
      "include_colab_link": true
    },
    "kernelspec": {
      "name": "python3",
      "display_name": "Python 3"
    },
    "language_info": {
      "name": "python"
    }
  },
  "cells": [
    {
      "cell_type": "markdown",
      "metadata": {
        "id": "view-in-github",
        "colab_type": "text"
      },
      "source": [
        "<a href=\"https://colab.research.google.com/github/kaurratinder130-bit/helloworld/blob/main/Lesson_3_Lab_python_refresher.ipynb\" target=\"_parent\"><img src=\"https://colab.research.google.com/assets/colab-badge.svg\" alt=\"Open In Colab\"/></a>"
      ]
    },
    {
      "cell_type": "code",
      "execution_count": 3,
      "metadata": {
        "colab": {
          "base_uri": "https://localhost:8080/"
        },
        "id": "bW4_UxcuFhQU",
        "outputId": "0b0f0f48-c660-42c3-96e5-25c266ea3acb"
      },
      "outputs": [
        {
          "output_type": "stream",
          "name": "stdout",
          "text": [
            "10 5.5 Library Lab True\n",
            "Library is open\n",
            "x is greater than y\n"
          ]
        }
      ],
      "source": [
        "# Numbers\n",
        "x = 10\n",
        "y = 5.5\n",
        "\n",
        "# String\n",
        "name = \"Library Lab\"\n",
        "\n",
        "# Boolean\n",
        "is_open = True\n",
        "\n",
        "# Print variables\n",
        "print(x, y, name, is_open)\n",
        "\n",
        "# Check if library is open\n",
        "if is_open:\n",
        "    print(\"Library is open\")\n",
        "else:\n",
        "    print(\"Library is closed\")\n",
        "\n",
        "# Compare numbers\n",
        "if x > y:\n",
        "    print(\"x is greater than y\")\n",
        "\n",
        "\n"
      ]
    },
    {
      "cell_type": "code",
      "source": [
        "for i in range(3):\n",
        "    print(f\"Iteration {i+1}\")\n",
        "    if i % 2 == 0:\n",
        "        print(\"Even iteration\")\n"
      ],
      "metadata": {
        "colab": {
          "base_uri": "https://localhost:8080/"
        },
        "id": "rMw1vB_vGBM4",
        "outputId": "686746bd-d138-4ea4-892c-d75b27c12016"
      },
      "execution_count": 4,
      "outputs": [
        {
          "output_type": "stream",
          "name": "stdout",
          "text": [
            "Iteration 1\n",
            "Even iteration\n",
            "Iteration 2\n",
            "Iteration 3\n",
            "Even iteration\n"
          ]
        }
      ]
    },
    {
      "cell_type": "code",
      "source": [
        "!git add Lesson_3_Lab_python_refresher.ipynb\n",
        "!git commit -m \"Commit 1: Fundamentals of Python\"\n"
      ],
      "metadata": {
        "colab": {
          "base_uri": "https://localhost:8080/"
        },
        "id": "e9K9HywxGFvh",
        "outputId": "b78a271f-2fd0-45ab-d869-8dad0ef37d40"
      },
      "execution_count": 5,
      "outputs": [
        {
          "output_type": "stream",
          "name": "stdout",
          "text": [
            "fatal: not a git repository (or any of the parent directories): .git\n",
            "fatal: not a git repository (or any of the parent directories): .git\n"
          ]
        }
      ]
    }
  ]
}